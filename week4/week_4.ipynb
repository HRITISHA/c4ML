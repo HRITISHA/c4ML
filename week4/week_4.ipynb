{
 "cells": [
  {
   "cell_type": "code",
   "execution_count": null,
   "metadata": {},
   "outputs": [],
   "source": [
    "import cv2\n",
    "from sklearn.externals import joblib\n",
    "from skimage.feature import hog\n",
    "import numpy as np\n",
    "\n",
    "# Load the classifier\n",
    "clf = joblib.load(\"digits_cls.pkl\")\n",
    "\n",
    "# Read the input image\n",
    "im = cv2.imread(\"photo8.jpg\")\n",
    "\n",
    "# Convert to grayscale and apply Gaussian filtering\n",
    "im_gray = cv2.cvtColor(im, cv2.COLOR_BGR2GRAY)\n",
    "im_gray = cv2.GaussianBlur(im_gray, (5, 5), 0)\n",
    "\n",
    "# Threshold the image\n",
    "ret, im_th = cv2.threshold(im_gray,90,255,cv2.THRESH_BINARY_INV)\n",
    "\n",
    "# Find contours in the image\n",
    "ctrs, hier = cv2.findContours(im_th.copy(), cv2.RETR_EXTERNAL, cv2.CHAIN_APPROX_SIMPLE)\n",
    "\n",
    "# Get rectangles contains each contour\n",
    "rects = [cv2.boundingRect(ctr) for ctr in ctrs]\n",
    "\n",
    "'''\n",
    "For each rectangular region, calculate HOG features and predict\n",
    "the digit using Linear SVM.\n",
    "'''\n",
    "\n",
    "for rect in rects:\n",
    "    # Draw the rectangles\n",
    "    cv2.rectangle(im, (rect[0], rect[1]), (rect[0] + rect[2], rect[1] + rect[3]), (0, 255, 0), 3)\n",
    "\n",
    "     # Make the rectangular region around the digit\n",
    "    leng = int(rect[3] * 1.6)\n",
    "    pt1 = int(rect[1] + rect[3] // 2 - leng // 2)\n",
    "    pt2 = int(rect[0] + rect[2] // 2 - leng // 2)\n",
    "    if pt1<0:\n",
    "        pt1=0\n",
    "    if pt2<0:\n",
    "        pt2=0\n",
    "    roi = im_th[pt1:pt1+leng, pt2:pt2+leng]\n",
    "\n",
    "    # Resize the image\n",
    "    roi = cv2.resize(roi, (28, 28), interpolation=cv2.INTER_AREA)\n",
    "    roi = cv2.dilate(roi, (3, 3))\n",
    "\n",
    "    # Calculate the HOG features\n",
    "    roi_hog_fd = hog(roi, orientations=9, pixels_per_cell=(14, 14), cells_per_block=(1, 1), visualize=False,block_norm=\"L1\")\n",
    "\n",
    "    #actual prediction\n",
    "    nbr = clf.predict(np.array([roi_hog_fd], 'float64'))\n",
    "    cv2.putText(im, str(int(nbr[0])), (rect[0], rect[1]),cv2.FONT_HERSHEY_DUPLEX, 2, (0, 255, 255), 3)\n",
    "cv2.imshow(\"Resulting Image with Rectangular ROIs\", im)\n",
    "cv2.waitKey(0)\n"
   ]
  },
  {
   "cell_type": "code",
   "execution_count": null,
   "metadata": {},
   "outputs": [],
   "source": [
    "# Import the modules\n",
    "from sklearn.externals import joblib\n",
    "from sklearn import datasets\n",
    "from skimage.feature import hog\n",
    "from sklearn.svm import LinearSVC\n",
    "import numpy as np\n"
   ]
  },
  {
   "cell_type": "code",
   "execution_count": null,
   "metadata": {},
   "outputs": [],
   "source": [
    "\n",
    "X,y= datasets.fetch_openml('mnist_784', version=1, return_X_y=True)                                                                        #importing datset and labels straight from sklearn\n",
    "Images = np.array(X, 'int16')                                                                                                              #converting list of Images into a numpy array.\n",
    "labels = np.array(y, 'int')\n",
    "list_hog_fd = []\n",
    "for Image in Images:\n",
    "    fd = hog(Image.reshape((28, 28)), orientations=9, pixels_per_cell=(14, 14), cells_per_block=(1, 1), visualize=False,block_norm='L2')    # using hog algorithm to extract features from each image\n",
    "    list_hog_fd.append(fd)                                                                                                                  #adding the hog features extracted from the image into a list\n",
    "hog_features = np.array(list_hog_fd, 'float64')                                                                                             #converting the HOG feature list into a numpy array\n",
    "\n",
    "'''\n",
    "Two line code to train entire dataset\n",
    "load the LinearSVC() model into clf\n",
    "and then fit hog_features and list into clf\n",
    "'''\n",
    "clf = LinearSVC()\n",
    "clf.fit(hog_features,y)\n",
    "\n",
    "print('Accuracy is:',clf.score(hog_features,labels)*100,'%')\n",
    "joblib.dump(clf, \"digits_cls.pkl\", compress=3)                                                                                             #storing the model into a file called 'digits_cls.pkl'\n"
   ]
  },
  {
   "cell_type": "code",
   "execution_count": null,
   "metadata": {},
   "outputs": [],
   "source": []
  }
 ],
 "metadata": {
  "kernelspec": {
   "display_name": "Python 3",
   "language": "python",
   "name": "python3"
  },
  "language_info": {
   "codemirror_mode": {
    "name": "ipython",
    "version": 3
   },
   "file_extension": ".py",
   "mimetype": "text/x-python",
   "name": "python",
   "nbconvert_exporter": "python",
   "pygments_lexer": "ipython3",
   "version": "3.7.4"
  }
 },
 "nbformat": 4,
 "nbformat_minor": 2
}
